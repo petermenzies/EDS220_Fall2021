{
 "cells": [
  {
   "cell_type": "markdown",
   "id": "9f2f752f-bd01-472d-9b82-f7dbbb04ae15",
   "metadata": {},
   "source": [
    "# Working with Satellite Remote Sensing Data: Ocean Edition\n",
    "## Focus on ENSO and Marine Heat Waves\n",
    "### EDS 220 Fall 2021\n",
    "\n",
    "This week's class will focus on some commonly employed diagnostics used in physical oceanography and climate science, using satellite remote sensing products. \n",
    "\n",
    "During the course of this lab exercise, we will cover the following topics/analysis skills:\n",
    "- Use of OpeNDAP and THREDDS to access data remotely\n",
    "- Spatial subsetting and regional averaging of data\n",
    "- Removal of seasonal cycle using \"groupby\"\n",
    "- Use of threshold exceedances to identify events (El Nino/La Nina, marine heat waves)\n",
    "- Performing computations on all gridpoints within a spatial data field\n",
    "- Creating georeferenced maps of spatial fields using cartopy\n"
   ]
  },
  {
   "cell_type": "markdown",
   "id": "bdc03366-9316-4c90-abcc-415fcfd1f913",
   "metadata": {},
   "source": [
    "#### **Datasets: ERSSTv5 and OISSTv2**\n",
    "In this lab, we'll be using data from two sources:\n",
    "\n",
    "- MONTHLY data from the Extended Reconstructed Sea Surface Temperature dataset version 5 (ERSSTv5), to identify El Nino and La Nina periods:\n",
    "- DAILY data from NOAA's 1/4° Daily Optimum Interpolation Sea Surface Temperature (OISST) version 2, or OISSTv2, to identify marine heat waves. \n",
    "\n",
    "\n",
    "#### **OpeNDAP and THREDDS**\n",
    "\n",
    "The method of accessing these files will be via the NOAA Open-source Project for a Network Data Access Protocol (OpeNDAP) server. OpeNDAP is a fairly common method of providing remote access to large data files without the need to download the entire file; more information can be found here:\n",
    "\n",
    "https://earthdata.nasa.gov/collaborate/open-data-services-and-software/api/opendap\n",
    "\n",
    "https://earthdata.nasa.gov/collaborate/open-data-services-and-software/api/opendap/opendap-user-guide\n",
    "\n",
    "The OpeNDAP protocol is implemented on many scientific servers using a Web service called the Thematic Real-time Environmental Distributed Data Services (THREDDS), which is responsible for reading in the various metadata fields associated with the appropriate files. More information on THREDDS can be found here:\n",
    "\n",
    "https://www.unidata.ucar.edu/software/tds/current/"
   ]
  },
  {
   "cell_type": "markdown",
   "id": "11c9c014-5a06-4bb7-b0d6-6913058d2e49",
   "metadata": {},
   "source": [
    "### PART 1: ENSO\n",
    "\n",
    "First, we will apply the ERSSTv5 product to identify El Nino and La Nina events. The Python packages we will need for this and subsequent parts of the notebook are numpy, matplotlib, cartopy, and xarray:"
   ]
  },
  {
   "cell_type": "code",
   "execution_count": 1,
   "id": "8cef0b07-ae72-4095-baa7-5a72a868d08a",
   "metadata": {},
   "outputs": [],
   "source": [
    "# Configure environment\n"
   ]
  },
  {
   "cell_type": "markdown",
   "id": "716464bc-c29b-4ba4-826e-a1cd4977f9cf",
   "metadata": {},
   "source": [
    "The ERSSTv5 data is stored in a single file, containing information for the entire period. The website describing ERSSTv5 data can be found here:\n",
    "\n",
    "https://psl.noaa.gov/thredds/catalog/Datasets/noaa.ersst.v5/catalog.html?dataset=Datasets/noaa.ersst.v5/sst.mnmean.nc"
   ]
  },
  {
   "cell_type": "code",
   "execution_count": 2,
   "id": "69a5a5d2-9bf9-4419-9549-491980bfc92e",
   "metadata": {},
   "outputs": [],
   "source": [
    "# location of ERSSTv5 data\n"
   ]
  },
  {
   "cell_type": "code",
   "execution_count": 3,
   "id": "22470693-d4c9-479c-b563-e6b2d0cebf91",
   "metadata": {},
   "outputs": [],
   "source": [
    "# open dataset using remote URL\n",
    "\n",
    "# display dataset to see what it looks like\n"
   ]
  },
  {
   "attachments": {
    "022a5d1d-b083-4383-8c15-caea17b25821.png": {
     "image/png": "[encoded data removed]"
    }
   },
   "cell_type": "markdown",
   "id": "968d8ab5-08ab-4a71-ad3e-3b408641d4c7",
   "metadata": {},
   "source": [
    "Now we can subset this data to extract only information in the NINO3.4 region: 5S-5N, 190-240E (the middle of the Pacific):\n",
    "![image.png](attachment:022a5d1d-b083-4383-8c15-caea17b25821.png)\n",
    "\n",
    "This regional filter will be constructed using _logical masking_: assigning \"True\" to values within a specified lat/lon range, and \"False\" to values outside that range. This approach to filtering is nice because it works regardless of the shape or regularity of your data's lat/lon spacing!"
   ]
  },
  {
   "cell_type": "code",
   "execution_count": 4,
   "id": "93e5fadf-2d2e-4d03-a5ba-634011b816f4",
   "metadata": {},
   "outputs": [],
   "source": [
    "# Create logical masks for lat and lon variables\n",
    "\n",
    "\n",
    "# Apply lat/lon masks to the ERSST field, then calculate averages over the lat and lon dimensions\n"
   ]
  },
  {
   "cell_type": "markdown",
   "id": "d346c50f-42b8-41af-9d4c-246c9ca5e3d0",
   "metadata": {},
   "source": [
    "Let's make a plot to see what this time series looks like!"
   ]
  },
  {
   "cell_type": "code",
   "execution_count": 5,
   "id": "fc311470-ea68-4dc3-99e0-9151109832f0",
   "metadata": {},
   "outputs": [],
   "source": [
    "# create a new figure, set size and resolution (dpi)\n",
    "\n",
    "# add data to the plot\n",
    "  \n",
    "# Specify plot parameters\n"
   ]
  },
  {
   "cell_type": "markdown",
   "id": "3e92e21a-d211-4f65-934e-4e6c1aab1991",
   "metadata": {},
   "source": [
    "There is clearly a lot of variability in the time series above, with some years warmer than others: but how do we decide what is really warmer than what would be expected? To do this, we need to remove the effects of seasonal changes in temperature. This is often done by computing the NINO3.4 \"SST anomaly\", where the mean value for each calendar month is removed (so for January, the average of all Januaries, for February the average of all Februaries, and so on). \n",
    "\n",
    "In xarray, the \"groupby\" functionality allows us to do this quite easily! We can get some basic information on groupby using the `?` syntax:"
   ]
  },
  {
   "cell_type": "code",
   "execution_count": 6,
   "id": "2c715996-0342-4b08-89eb-696b63343380",
   "metadata": {},
   "outputs": [],
   "source": [
    "# Take a look at the groupby method in n34_ts\n"
   ]
  },
  {
   "cell_type": "markdown",
   "id": "fda48188-54a1-4353-a245-6022178990e1",
   "metadata": {},
   "source": [
    "We need to pass an argument to groupby, to tell it what to use to construct the groups. There are two possible syntaxes for this: the first uses a feature within xarray called the `DateTimeAccessor`, or .dt for short. This is applied to the time variable within the xarray dataframe:"
   ]
  },
  {
   "cell_type": "code",
   "execution_count": 7,
   "id": "0f0914a9-371a-4ec5-841a-b61b1eab67ff",
   "metadata": {},
   "outputs": [],
   "source": [
    "# Display n34_ts DateTimeAccessor\n"
   ]
  },
  {
   "cell_type": "markdown",
   "id": "dd5e394d-028d-4116-ba1a-b9a225b7562c",
   "metadata": {},
   "source": [
    "The DateTimeAccessor knows various things about the time that you can query: for instance, the calendar month:"
   ]
  },
  {
   "cell_type": "code",
   "execution_count": 8,
   "id": "63ff39fc-d377-42e1-a66a-1e5e8e31cbde",
   "metadata": {},
   "outputs": [],
   "source": [
    "# Query calendar month\n"
   ]
  },
  {
   "cell_type": "markdown",
   "id": "dad7749b-76bf-4f25-878f-b9a3561ce2f8",
   "metadata": {},
   "source": [
    "Or when variables are already included in the dataframe, you can use a simpler syntax:"
   ]
  },
  {
   "cell_type": "code",
   "execution_count": 9,
   "id": "94028a79-96dd-4afe-9322-2f7f0b52c49c",
   "metadata": {},
   "outputs": [],
   "source": [
    "# Query calendar month more simply\n"
   ]
  },
  {
   "cell_type": "markdown",
   "id": "0c3a02e9-0825-47b2-bbcd-a1bbbcdef569",
   "metadata": {},
   "source": [
    "The above returned what's called a `GroupBy` object, which is essentially a list of groups and which parts of the dataset belong to which group. we can then calculate the monthly mean using this set of groups. Here I will also use the `sel` functionality to select a time period over which to calculate the climatology: 1971-2000 is the \"base period\" used in the NOAA operational definition of El Nino (more on that below).\n",
    "\n",
    "Stacking up all our commands, we get:"
   ]
  },
  {
   "cell_type": "code",
   "execution_count": 10,
   "id": "43d65017-f0b3-49d2-9744-b6c6a01f3e01",
   "metadata": {},
   "outputs": [],
   "source": [
    "# Select the 1971-2000 base period, group it by month, and compute a time average for each month\n"
   ]
  },
  {
   "cell_type": "markdown",
   "id": "15b2a095-e008-4d3d-9819-bb8e744ce198",
   "metadata": {},
   "source": [
    "In order to complete our calculation, we next have to _apply_ the GroupBy object to the raw NINO3.4 time series.\n",
    "\n",
    "The most efficient way (that I know of) to do this is to use the Python \"function stacking\" capabilities to simultaneously create the groupings and apply them, in a single line of code:"
   ]
  },
  {
   "cell_type": "code",
   "execution_count": 11,
   "id": "38556379-b744-44e4-8e42-6aeb511b5331",
   "metadata": {},
   "outputs": [],
   "source": [
    "# Create the base period climatology and remove it from the NINO3.4 SST time series\n",
    "\n",
    "# Display SSTA dataset\n"
   ]
  },
  {
   "cell_type": "code",
   "execution_count": 12,
   "id": "e280311c-a3fa-4b89-929a-9dade3df2ee0",
   "metadata": {},
   "outputs": [],
   "source": [
    "# create a new figure, set size and resolution (dpi)\n",
    " \n",
    "# add data to the plot\n",
    "   \n",
    "# Set plot parameters\n"
   ]
  },
  {
   "cell_type": "markdown",
   "id": "c9ed0d67-0a73-451f-86c0-5a46e63ebedb",
   "metadata": {},
   "source": [
    "Now that the seasonal cycle has been removed, it's much more obvious when there are large excursions from what is climatologically \"normal\" for that time of year. \n",
    "\n",
    "There are many definitions for El Nino and La Nina events. Here, let's use the one that NOAA uses in its operational ENSO forecasts:\n",
    "https://www.nws.noaa.gov/ost/climate/STIP/ElNinoDef.htm\n",
    "\n",
    "This definition states that El Nino is \"a positive sea surface temperature departure from normal (for the 1971-2000 base period) in the Niño 3.4 region greater than or equal in magnitude to 0.5 degrees C (0.9 degrees Fahrenheit), averaged over three consecutive months.\" with La Nina being the same thing, but using a threshold of -0.5C. \n",
    "\n",
    "Since we want signals that persist over three consecutive months, we'll use the `rolling` method to isolate periods where the running 3-month average is above/below the threshold:"
   ]
  },
  {
   "cell_type": "code",
   "execution_count": 13,
   "id": "2ea6289c-ff4f-4b7e-a8ad-e6a8179ab147",
   "metadata": {},
   "outputs": [],
   "source": [
    "# Calculate 3-month rolling mean NINO3.4 SSTA\n",
    "\n",
    "\n",
    "# create a new figure, set size and resolution (dpi)\n",
    "    \n",
    "# add data to the plot\n",
    "   \n",
    "# Set plot parameters\n"
   ]
  },
  {
   "cell_type": "markdown",
   "id": "c35890d5-5357-4f31-ab04-1c98aeba3378",
   "metadata": {},
   "source": [
    "Another powerful data analysis technique is the use of thresholds for _compositing_. In other words: select all parts of a dataset which satisfy some criterion (in this case, exceeding the El Nino/La Nina SSTA threshold) and making an average over those periods.\n",
    "\n",
    "The below code creates logical masks for the NINO 3.4 SSTA time series which are either:\n",
    "- True when El Nino, False other times; or\n",
    "- True when La Nina, False other times:"
   ]
  },
  {
   "cell_type": "code",
   "execution_count": 14,
   "id": "5ba7d48a-9880-4e9d-b555-4ebab3f0051a",
   "metadata": {},
   "outputs": [],
   "source": [
    "# Mask for El Nino\n",
    "\n",
    "# Mask for La Nina\n"
   ]
  },
  {
   "cell_type": "markdown",
   "id": "b110a342-571f-43ab-85dc-084ed1267d14",
   "metadata": {},
   "source": [
    "Using these logical masks, and the knowledge that the full set of ERSST data has the same size time dimension as the NINO3.4 SSTA time series, we can then use this to construct a composite of the SST anomaly _patterns_ present during El Nino and La Nina events. \n",
    "\n",
    "First, we need to compute a new array, containing spatial fields of SST anomalies. We can do this using the same group by approach we applied to the NINO3.4 time series:"
   ]
  },
  {
   "cell_type": "code",
   "execution_count": 15,
   "id": "e0200431-3945-44e3-bb12-a304151d4f04",
   "metadata": {},
   "outputs": [],
   "source": [
    "# Calculate base period climatology and remove it from the ERSST field\n"
   ]
  },
  {
   "cell_type": "markdown",
   "id": "07409899-d809-4f10-a403-6be921ea2323",
   "metadata": {},
   "source": [
    "Now we apply the logical masks to this new SST anomaly field, and average over time to create a composite map:"
   ]
  },
  {
   "cell_type": "code",
   "execution_count": 16,
   "id": "a47f6ab1-61ee-4660-8b3b-f3d36a8200a0",
   "metadata": {},
   "outputs": [],
   "source": [
    "# Apply El Nino mask and extract the xarray DataArray\n",
    "\n",
    "\n",
    "# Apply La Nina mask and extract the xarray DataArray\n"
   ]
  },
  {
   "cell_type": "markdown",
   "id": "ebf81285-f779-442a-b9f1-6c0f8cda942e",
   "metadata": {},
   "source": [
    "The final step is to plot this as a nicely formatted map! This can be accomplished using the functionality of cartopy."
   ]
  },
  {
   "cell_type": "code",
   "execution_count": 17,
   "id": "a621dcce-9dee-4723-8984-7f519619d236",
   "metadata": {},
   "outputs": [],
   "source": [
    "# Create an object containing the Plate-Carree map projection, centered at 180E\n",
    "\n",
    "# Create a figure object\n",
    "\n",
    "# Create an axis object using the specified projection\n",
    "\n",
    "# Make a filled contour plot of the El Nino SSTA composite using the specified map projection\n",
    "\n",
    "# Set plot parameters\n"
   ]
  },
  {
   "cell_type": "code",
   "execution_count": 18,
   "id": "8f2d359f-91aa-4286-b4a4-c89821dd8273",
   "metadata": {},
   "outputs": [],
   "source": [
    "# Create an object containing the Plate-Carree map projection, centered at 180E\n",
    "\n",
    "# Create a figure object\n",
    "\n",
    "# Create an axis object using the specified projection\n",
    "\n",
    "# Make a filled contour plot of the La Nina SSTA composite using the specified map projection\n",
    "\n",
    "# Set plot parameters\n"
   ]
  },
  {
   "cell_type": "markdown",
   "id": "48a46269-c5b5-429b-b79a-3b83b24ac0d3",
   "metadata": {},
   "source": [
    "### **PART II: Marine Heat Waves**"
   ]
  },
  {
   "cell_type": "markdown",
   "id": "e5a20477-ef55-4fdb-8048-b3143b687ea9",
   "metadata": {},
   "source": [
    "The next example of SST-based data analysis is marine heat waves: these are events where SST is above a (typically very high) local threshold. \n",
    "\n",
    "Here we'll use the OISSTv2 data, since we'll need daily resolution. The OISSTv2 data are stored in many files, each containing information for a single year. The base directory where the information is located can be found here:\n",
    "\n",
    "https://psl.noaa.gov/thredds/catalog/Datasets/noaa.oisst.v2.highres/catalog.html\n",
    "\n",
    "We are also only interested in data within the tropical Pacific - that means that we don't have to read in the entire file, only the subset of it within our region of interest.\n",
    "\n",
    "All of these tasks can be accomplished by combining _spatial subsetting_ with a carefully constructed _for loop_.\n",
    "\n",
    "First, let's specify some parameters appropriate for accessing the OISST files. Since we know that there will be one file per year, we can store the \"base URL\" (first part of the filename) and create a sequence of years of interest using the `range()` function:"
   ]
  },
  {
   "cell_type": "code",
   "execution_count": 19,
   "id": "d3718979-1b82-4f2a-9fa4-ecfed8059cdf",
   "metadata": {},
   "outputs": [
    {
     "name": "stdout",
     "output_type": "stream",
     "text": [
      "range(2013, 2019)\n"
     ]
    }
   ],
   "source": [
    "# NOAA THREDDS server: base URL for all files \n",
    "base_url=\"https://psl.noaa.gov/thredds/dodsC/Datasets/noaa.oisst.v2.highres/\"\n",
    "\n",
    "# Naming convention for files: \"sst.day.mean.[year].v2.nc\"\n",
    "yrs=range(2013,2019)\n",
    "print(yrs)"
   ]
  },
  {
   "cell_type": "markdown",
   "id": "7fbde6f3-baf4-42ca-8285-cb7e20b85950",
   "metadata": {},
   "source": [
    "This combination of information now allows us to open any OISST file. To make things easier, let's work with the anomaly files; these are files which have already had the seasonal climatology subtracted out, so we don't have to do that step again.\n",
    "\n",
    "As an example, the following will open the file for 1981:"
   ]
  },
  {
   "cell_type": "code",
   "execution_count": null,
   "id": "d32d4f23-cec0-4d60-9ca9-8dceb7230b54",
   "metadata": {},
   "outputs": [],
   "source": []
  },
  {
   "cell_type": "markdown",
   "id": "410e1565-e79d-4178-a46a-45f8da0e3878",
   "metadata": {},
   "source": [
    "Now let's extend this to read in data over the entire range of years. \n",
    "\n",
    "The below code chunk will take a few minutes to run, since the data files we're working with are quite large. Run time was roughly 2-3 minutes during initial testing of this notebook:"
   ]
  },
  {
   "cell_type": "code",
   "execution_count": 20,
   "id": "18dd9c05-7701-4b71-84ee-62fa9fb207cb",
   "metadata": {},
   "outputs": [
    {
     "name": "stdout",
     "output_type": "stream",
     "text": [
      "2013\n",
      "2014\n",
      "2015\n",
      "2016\n",
      "2017\n",
      "2018\n"
     ]
    }
   ],
   "source": [
    "nepac_sst=[]     # Blank variable to store output data \n",
    "\n",
    "for y in yrs:\n",
    "    print(y)\n",
    "    \n",
    "    # Open the dataset into an xarray object\n",
    "    \n",
    "    # Define logical mask to be true in the Northeast Pacific (30-50N, 180-240E)\n",
    "\n",
    "    # Read in data \n",
    "    "
   ]
  },
  {
   "cell_type": "markdown",
   "id": "2573381c-c9cc-4586-a0b6-e77a51564c9a",
   "metadata": {},
   "source": [
    "Since we have appended each year's data to the initially blank output variable, the data returned is a list of xarray Datasets. We can convert this into a single Dataset containing time information for all years using `xr.concat`:"
   ]
  },
  {
   "cell_type": "code",
   "execution_count": 21,
   "id": "174765dc-ef8f-40a6-9ff3-0e2c61e7a769",
   "metadata": {},
   "outputs": [],
   "source": [
    "# Concatenate list of xarray Datasets into a single Dataset, along dimension \"time\"\n",
    "\n",
    "\n",
    "# Calculate a regionally averaged time series for the NE Pacific\n"
   ]
  },
  {
   "cell_type": "markdown",
   "id": "4145ee72-f157-4435-8ea9-f2d4469b52d2",
   "metadata": {},
   "source": [
    "Now let's try a new analysis: looking at the exceedance of the _daily_ SST anomaly over a given threshold. This is a standard approach used in marine heat wave studies, although the thresholds and persistence times used are not yet as \"standardized\" as those used in ENSO research.\n",
    "\n",
    "There is a paper by Hobday et al. (2016) which proposes numerous marine heat wave definitions - let's use this one:\n",
    "- Daily SST anomaly exceeding the 90th percentile (for 5 or more days)\n",
    "\n",
    "If we were doing this for real, the 90th percentile value would be calculated using a long baseline (roughly 30 years or more), but we'll \"pretend\" for now using the 5-year time series above to shorten the data I/O time needed. To make the computation simpler, we'll also ignore the 5-day persistence requirement for now.\n",
    "\n",
    "The method of calculating percentiles we will use is a numpy function called `percentile`, since xarray itself does not contain a native percentile function. In order to apply this percentile calculation to the xarray dataset, we can use an xarray method called `reduce`: this reduces the size of a dataset by applying a function you pass it as an argument.\n",
    "\n",
    "The below code chunk will return the 90th percentile of the NE Pacific time series:"
   ]
  },
  {
   "cell_type": "code",
   "execution_count": null,
   "id": "e869857e-daf0-4c59-b924-efc73d275bfb",
   "metadata": {},
   "outputs": [],
   "source": []
  },
  {
   "cell_type": "markdown",
   "id": "6fd9f521-8b4b-4628-b086-a7e7d1bc23bf",
   "metadata": {},
   "source": [
    "Now we can use the same logical masking method to identify all places within the NE Pacific time series which exceed that threshold:"
   ]
  },
  {
   "cell_type": "code",
   "execution_count": 22,
   "id": "0d804e09-e5a1-497d-887e-9179bdc46da3",
   "metadata": {},
   "outputs": [],
   "source": [
    "# Mask for MHW\n"
   ]
  },
  {
   "cell_type": "markdown",
   "id": "c85b6d70-8ab6-4050-9ccf-9ddfe342a2b3",
   "metadata": {},
   "source": [
    "As for the ENSO example, this mask can now be used to composite over all marine heat wave events:"
   ]
  },
  {
   "cell_type": "code",
   "execution_count": 23,
   "id": "8acfb297-e21a-4dc4-ba33-4678296d7b9e",
   "metadata": {},
   "outputs": [],
   "source": [
    "# Apply MHW mask and extract the xarray DataArray\n"
   ]
  },
  {
   "cell_type": "markdown",
   "id": "e79f5123-f8cf-4678-88e3-d90f49475078",
   "metadata": {},
   "source": [
    "Finally, we make another cartopy plot to display the results!"
   ]
  },
  {
   "cell_type": "code",
   "execution_count": 24,
   "id": "0737c9a0-1cc8-485d-8690-49da38141dd9",
   "metadata": {},
   "outputs": [],
   "source": [
    "# Create an object containing the Plate-Carree map projection, centered at 180E\n",
    "\n",
    "# Create a figure object\n",
    "\n",
    "# Create an axis object using the specified projection\n",
    "\n",
    "# Make a filled contour plot of the La Nina SSTA composite using the specified map projection\n",
    "\n",
    "# Set plot parameters\n"
   ]
  },
  {
   "cell_type": "code",
   "execution_count": null,
   "id": "48d017ef-26de-4213-b0a6-56150e9a6033",
   "metadata": {},
   "outputs": [],
   "source": []
  }
 ],
 "metadata": {
  "kernelspec": {
   "display_name": "Python 3 (ipykernel)",
   "language": "python",
   "name": "python3"
  },
  "language_info": {
   "codemirror_mode": {
    "name": "ipython",
    "version": 3
   },
   "file_extension": ".py",
   "mimetype": "text/x-python",
   "name": "python",
   "nbconvert_exporter": "python",
   "pygments_lexer": "ipython3",
   "version": "3.7.11"
  }
 },
 "nbformat": 4,
 "nbformat_minor": 5
}
